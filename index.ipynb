{
 "cells": [
  {
   "cell_type": "markdown",
   "metadata": {},
   "source": [
    "# Breast Cancer Diagnosis with Naive Bayes Classifier - Lab \n",
    "\n",
    "## Introduction\n",
    "\n",
    "Breast cancer is the most common form of cancer in women, and the second most common form of\n",
    "cancer worldwide. The American Cancer Society states that 1.688.780 cancer cases occurred in the\n",
    "United States in 2017, 35.6% of which led to death. The early diagnosis and prognosis of breast\n",
    "cancer involves detection and classification of cancerous cells. This has led biomedical and bioinformatics\n",
    "specialists to become interested in the application of Machine Learning and other AI\n",
    "methods. These predictive methods proved to be very effective in identifying pathological conditions\n",
    "in cells and organs.\n",
    "\n",
    "## Objectives:\n",
    "\n",
    "You will be able to:\n",
    "\n",
    "- Perform a detailed classification experiment with SciKitLearn's implementation of Naive Bayes and Wisconsin Breast Cancer Dataset\n",
    "- Perform necessary data cleaning and pre-processing for machine learning tasks\n",
    "- Observe the accuracy of NB classifier and take steps for improving accuracy"
   ]
  },
  {
   "cell_type": "markdown",
   "metadata": {},
   "source": [
    "### Load necessary libraries"
   ]
  },
  {
   "cell_type": "code",
   "execution_count": 2,
   "metadata": {},
   "outputs": [],
   "source": [
    "#importing the libraries\n",
    "import numpy as np\n",
    "import matplotlib.pyplot as plt\n",
    "import pandas as pd"
   ]
  },
  {
   "cell_type": "markdown",
   "metadata": {},
   "source": [
    "## Dataset\n",
    "\n",
    "The Breast Cancer dataset, first obtained from Dr. William H. Wolberg at the University of\n",
    "Wisconsin Hospitals, Madison, is composed of 30 continuous variables and 569 observations. The\n",
    "dataset is based on ten original features describing cancerous cell nuclei derived from a digitized image\n",
    "of a fine needle aspirate of a breast mass. For each of these ten features, the mean, standard error and\n",
    "the ’worst’ value (defined as the mean of the three largest values) have been calculated, resulting in a\n",
    "total of 30 continuous features. The original variable \"area\", for example, has been split into three separate\n",
    "features, area_mean, area_SE and area_worst. The dataset reported only these derived features, not\n",
    "the original variables. The response variable is a categorical variable indicating whether the tumour is\n",
    "malignant (M) or benign (B). The dataset contains 357 benign and 212 malignant examples. The distribution of\n",
    "all variables with respect to response variable is shown as violin plot below. \n",
    "![](VIOLIN.PNG)\n",
    "\n",
    "Further details of dataset can be viewed at [UCI machine learning repo](https://archive.ics.uci.edu/ml/machine-learning-databases/breast-cancer-wisconsin/wdbc.names) . We have downloaded this for you as a CSV file: `data.csv`."
   ]
  },
  {
   "cell_type": "markdown",
   "metadata": {},
   "source": [
    "### Import `data.csv` as Pandas Dataframe. Split the dataset to create X (all features) and Y (Target variable)"
   ]
  },
  {
   "cell_type": "code",
   "execution_count": 29,
   "metadata": {},
   "outputs": [
    {
     "name": "stdout",
     "output_type": "stream",
     "text": [
      "Cancer data set dimensions : (569, 31)\n"
     ]
    },
    {
     "data": {
      "text/html": [
       "<div>\n",
       "<style scoped>\n",
       "    .dataframe tbody tr th:only-of-type {\n",
       "        vertical-align: middle;\n",
       "    }\n",
       "\n",
       "    .dataframe tbody tr th {\n",
       "        vertical-align: top;\n",
       "    }\n",
       "\n",
       "    .dataframe thead th {\n",
       "        text-align: right;\n",
       "    }\n",
       "</style>\n",
       "<table border=\"1\" class=\"dataframe\">\n",
       "  <thead>\n",
       "    <tr style=\"text-align: right;\">\n",
       "      <th></th>\n",
       "      <th>diagnosis</th>\n",
       "      <th>radius_mean</th>\n",
       "      <th>texture_mean</th>\n",
       "      <th>perimeter_mean</th>\n",
       "      <th>area_mean</th>\n",
       "      <th>smoothness_mean</th>\n",
       "      <th>compactness_mean</th>\n",
       "      <th>concavity_mean</th>\n",
       "      <th>concave points_mean</th>\n",
       "      <th>symmetry_mean</th>\n",
       "      <th>...</th>\n",
       "      <th>radius_worst</th>\n",
       "      <th>texture_worst</th>\n",
       "      <th>perimeter_worst</th>\n",
       "      <th>area_worst</th>\n",
       "      <th>smoothness_worst</th>\n",
       "      <th>compactness_worst</th>\n",
       "      <th>concavity_worst</th>\n",
       "      <th>concave points_worst</th>\n",
       "      <th>symmetry_worst</th>\n",
       "      <th>fractal_dimension_worst</th>\n",
       "    </tr>\n",
       "  </thead>\n",
       "  <tbody>\n",
       "    <tr>\n",
       "      <th>0</th>\n",
       "      <td>M</td>\n",
       "      <td>17.99</td>\n",
       "      <td>10.38</td>\n",
       "      <td>122.80</td>\n",
       "      <td>1001.0</td>\n",
       "      <td>0.11840</td>\n",
       "      <td>0.27760</td>\n",
       "      <td>0.3001</td>\n",
       "      <td>0.14710</td>\n",
       "      <td>0.2419</td>\n",
       "      <td>...</td>\n",
       "      <td>25.38</td>\n",
       "      <td>17.33</td>\n",
       "      <td>184.60</td>\n",
       "      <td>2019.0</td>\n",
       "      <td>0.1622</td>\n",
       "      <td>0.6656</td>\n",
       "      <td>0.7119</td>\n",
       "      <td>0.2654</td>\n",
       "      <td>0.4601</td>\n",
       "      <td>0.11890</td>\n",
       "    </tr>\n",
       "    <tr>\n",
       "      <th>1</th>\n",
       "      <td>M</td>\n",
       "      <td>20.57</td>\n",
       "      <td>17.77</td>\n",
       "      <td>132.90</td>\n",
       "      <td>1326.0</td>\n",
       "      <td>0.08474</td>\n",
       "      <td>0.07864</td>\n",
       "      <td>0.0869</td>\n",
       "      <td>0.07017</td>\n",
       "      <td>0.1812</td>\n",
       "      <td>...</td>\n",
       "      <td>24.99</td>\n",
       "      <td>23.41</td>\n",
       "      <td>158.80</td>\n",
       "      <td>1956.0</td>\n",
       "      <td>0.1238</td>\n",
       "      <td>0.1866</td>\n",
       "      <td>0.2416</td>\n",
       "      <td>0.1860</td>\n",
       "      <td>0.2750</td>\n",
       "      <td>0.08902</td>\n",
       "    </tr>\n",
       "    <tr>\n",
       "      <th>2</th>\n",
       "      <td>M</td>\n",
       "      <td>19.69</td>\n",
       "      <td>21.25</td>\n",
       "      <td>130.00</td>\n",
       "      <td>1203.0</td>\n",
       "      <td>0.10960</td>\n",
       "      <td>0.15990</td>\n",
       "      <td>0.1974</td>\n",
       "      <td>0.12790</td>\n",
       "      <td>0.2069</td>\n",
       "      <td>...</td>\n",
       "      <td>23.57</td>\n",
       "      <td>25.53</td>\n",
       "      <td>152.50</td>\n",
       "      <td>1709.0</td>\n",
       "      <td>0.1444</td>\n",
       "      <td>0.4245</td>\n",
       "      <td>0.4504</td>\n",
       "      <td>0.2430</td>\n",
       "      <td>0.3613</td>\n",
       "      <td>0.08758</td>\n",
       "    </tr>\n",
       "    <tr>\n",
       "      <th>3</th>\n",
       "      <td>M</td>\n",
       "      <td>11.42</td>\n",
       "      <td>20.38</td>\n",
       "      <td>77.58</td>\n",
       "      <td>386.1</td>\n",
       "      <td>0.14250</td>\n",
       "      <td>0.28390</td>\n",
       "      <td>0.2414</td>\n",
       "      <td>0.10520</td>\n",
       "      <td>0.2597</td>\n",
       "      <td>...</td>\n",
       "      <td>14.91</td>\n",
       "      <td>26.50</td>\n",
       "      <td>98.87</td>\n",
       "      <td>567.7</td>\n",
       "      <td>0.2098</td>\n",
       "      <td>0.8663</td>\n",
       "      <td>0.6869</td>\n",
       "      <td>0.2575</td>\n",
       "      <td>0.6638</td>\n",
       "      <td>0.17300</td>\n",
       "    </tr>\n",
       "    <tr>\n",
       "      <th>4</th>\n",
       "      <td>M</td>\n",
       "      <td>20.29</td>\n",
       "      <td>14.34</td>\n",
       "      <td>135.10</td>\n",
       "      <td>1297.0</td>\n",
       "      <td>0.10030</td>\n",
       "      <td>0.13280</td>\n",
       "      <td>0.1980</td>\n",
       "      <td>0.10430</td>\n",
       "      <td>0.1809</td>\n",
       "      <td>...</td>\n",
       "      <td>22.54</td>\n",
       "      <td>16.67</td>\n",
       "      <td>152.20</td>\n",
       "      <td>1575.0</td>\n",
       "      <td>0.1374</td>\n",
       "      <td>0.2050</td>\n",
       "      <td>0.4000</td>\n",
       "      <td>0.1625</td>\n",
       "      <td>0.2364</td>\n",
       "      <td>0.07678</td>\n",
       "    </tr>\n",
       "  </tbody>\n",
       "</table>\n",
       "<p>5 rows × 31 columns</p>\n",
       "</div>"
      ],
      "text/plain": [
       "  diagnosis  radius_mean  texture_mean  perimeter_mean  area_mean  \\\n",
       "0         M        17.99         10.38          122.80     1001.0   \n",
       "1         M        20.57         17.77          132.90     1326.0   \n",
       "2         M        19.69         21.25          130.00     1203.0   \n",
       "3         M        11.42         20.38           77.58      386.1   \n",
       "4         M        20.29         14.34          135.10     1297.0   \n",
       "\n",
       "   smoothness_mean  compactness_mean  concavity_mean  concave points_mean  \\\n",
       "0          0.11840           0.27760          0.3001              0.14710   \n",
       "1          0.08474           0.07864          0.0869              0.07017   \n",
       "2          0.10960           0.15990          0.1974              0.12790   \n",
       "3          0.14250           0.28390          0.2414              0.10520   \n",
       "4          0.10030           0.13280          0.1980              0.10430   \n",
       "\n",
       "   symmetry_mean           ...             radius_worst  texture_worst  \\\n",
       "0         0.2419           ...                    25.38          17.33   \n",
       "1         0.1812           ...                    24.99          23.41   \n",
       "2         0.2069           ...                    23.57          25.53   \n",
       "3         0.2597           ...                    14.91          26.50   \n",
       "4         0.1809           ...                    22.54          16.67   \n",
       "\n",
       "   perimeter_worst  area_worst  smoothness_worst  compactness_worst  \\\n",
       "0           184.60      2019.0            0.1622             0.6656   \n",
       "1           158.80      1956.0            0.1238             0.1866   \n",
       "2           152.50      1709.0            0.1444             0.4245   \n",
       "3            98.87       567.7            0.2098             0.8663   \n",
       "4           152.20      1575.0            0.1374             0.2050   \n",
       "\n",
       "   concavity_worst  concave points_worst  symmetry_worst  \\\n",
       "0           0.7119                0.2654          0.4601   \n",
       "1           0.2416                0.1860          0.2750   \n",
       "2           0.4504                0.2430          0.3613   \n",
       "3           0.6869                0.2575          0.6638   \n",
       "4           0.4000                0.1625          0.2364   \n",
       "\n",
       "   fractal_dimension_worst  \n",
       "0                  0.11890  \n",
       "1                  0.08902  \n",
       "2                  0.08758  \n",
       "3                  0.17300  \n",
       "4                  0.07678  \n",
       "\n",
       "[5 rows x 31 columns]"
      ]
     },
     "execution_count": 29,
     "metadata": {},
     "output_type": "execute_result"
    }
   ],
   "source": [
    "#importing the dataset \n",
    "df = pd.read_csv('data.csv')\n",
    "df.drop(labels = ['id', 'Unnamed: 32'], axis =1, inplace = True)\n",
    "print(\"Cancer data set dimensions : {}\".format(df.shape))\n",
    "X = df.drop('diagnosis', axis = 1)\n",
    "Y = df.diagnosis\n",
    "df.head()"
   ]
  },
  {
   "cell_type": "markdown",
   "metadata": {},
   "source": [
    "### Find the dimensions of the data set using the panda dataset ‘shape’ attribute."
   ]
  },
  {
   "cell_type": "code",
   "execution_count": 30,
   "metadata": {},
   "outputs": [
    {
     "data": {
      "text/plain": [
       "(569, 30)"
      ]
     },
     "execution_count": 30,
     "metadata": {},
     "output_type": "execute_result"
    }
   ],
   "source": [
    "# Your code here\n",
    "X.shape\n",
    "\n",
    "# Cancer data set dimensions : (569, 33)"
   ]
  },
  {
   "cell_type": "markdown",
   "metadata": {},
   "source": [
    "### Identify \"Malignant\" and \"Benign\" cases in the dataset"
   ]
  },
  {
   "cell_type": "code",
   "execution_count": 31,
   "metadata": {},
   "outputs": [
    {
     "data": {
      "text/plain": [
       "B    357\n",
       "M    212\n",
       "Name: diagnosis, dtype: int64"
      ]
     },
     "execution_count": 31,
     "metadata": {},
     "output_type": "execute_result"
    }
   ],
   "source": [
    "# Your code here\n",
    "Y.value_counts()\n",
    "# diagnosis\n",
    "# B    357\n",
    "# M    212\n",
    "# dtype: int64"
   ]
  },
  {
   "cell_type": "markdown",
   "metadata": {},
   "source": [
    "### Visualize the dataset, showing distributions of all features with respect to both target classes"
   ]
  },
  {
   "cell_type": "code",
   "execution_count": 32,
   "metadata": {},
   "outputs": [
    {
     "data": {
      "image/png": "[encoded data removed]",
      "text/plain": [
       "<Figure size 720x720 with 30 Axes>"
      ]
     },
     "metadata": {
      "needs_background": "light"
     },
     "output_type": "display_data"
    },
    {
     "data": {
      "image/png": "[encoded data removed]",
      "text/plain": [
       "<Figure size 720x720 with 30 Axes>"
      ]
     },
     "metadata": {
      "needs_background": "light"
     },
     "output_type": "display_data"
    }
   ],
   "source": [
    "#Visualization of data\n",
    "X.loc[Y=='B'].hist(figsize = (10,10))\n",
    "X.loc[Y=='M'].hist(figsize = (10,10))\n",
    "plt.show()\n",
    "# Code here "
   ]
  },
  {
   "cell_type": "markdown",
   "metadata": {},
   "source": [
    "## Categorical Data"
   ]
  },
  {
   "cell_type": "markdown",
   "metadata": {},
   "source": [
    "The data pre-processing for this experiment requires standardizing all variables to a [0,1]\n",
    "interval and coding the categorical response variable to a binary vector (equal to 1 if the tumor is\n",
    "malignant, and 0 otherwise)\n",
    "\n",
    "We will use SciKitLearn's `LabelEncoder` to label the categorical data. Label Encoder is  used to convert categorical data, or text data into numbers, which our predictive models can better understand.\n",
    "\n",
    "[Click here for more details on Label Encoder](https://scikit-learn.org/stable/modules/generated/sklearn.preprocessing.LabelEncoder.html)\n",
    "\n",
    "### Encode \"Malignant\" and \"Benign\" in Y to 0/1"
   ]
  },
  {
   "cell_type": "code",
   "execution_count": 33,
   "metadata": {},
   "outputs": [
    {
     "data": {
      "text/plain": [
       "0      0\n",
       "1      0\n",
       "2      0\n",
       "3      0\n",
       "4      0\n",
       "5      0\n",
       "6      0\n",
       "7      0\n",
       "8      0\n",
       "9      0\n",
       "10     0\n",
       "11     0\n",
       "12     0\n",
       "13     0\n",
       "14     0\n",
       "15     0\n",
       "16     0\n",
       "17     0\n",
       "18     0\n",
       "19     1\n",
       "20     1\n",
       "21     1\n",
       "22     0\n",
       "23     0\n",
       "24     0\n",
       "25     0\n",
       "26     0\n",
       "27     0\n",
       "28     0\n",
       "29     0\n",
       "      ..\n",
       "539    1\n",
       "540    1\n",
       "541    1\n",
       "542    1\n",
       "543    1\n",
       "544    1\n",
       "545    1\n",
       "546    1\n",
       "547    1\n",
       "548    1\n",
       "549    1\n",
       "550    1\n",
       "551    1\n",
       "552    1\n",
       "553    1\n",
       "554    1\n",
       "555    1\n",
       "556    1\n",
       "557    1\n",
       "558    1\n",
       "559    1\n",
       "560    1\n",
       "561    1\n",
       "562    0\n",
       "563    0\n",
       "564    0\n",
       "565    0\n",
       "566    0\n",
       "567    0\n",
       "568    1\n",
       "Name: diagnosis, Length: 569, dtype: int64"
      ]
     },
     "execution_count": 33,
     "metadata": {},
     "output_type": "execute_result"
    }
   ],
   "source": [
    "# Code here\n",
    "\n",
    "Y.replace(to_replace = {'M':0, 'B':1}, inplace = True)\n",
    "Y"
   ]
  },
  {
   "cell_type": "markdown",
   "metadata": {},
   "source": [
    "## Data Splitting for Hold-out Validation Testing \n",
    "\n",
    "### Perform an 80/20 train/test split to X and Y arrays"
   ]
  },
  {
   "cell_type": "code",
   "execution_count": 34,
   "metadata": {},
   "outputs": [],
   "source": [
    "# Split the dataset into the Training set and Test set for X and Y \n",
    "# Code here\n",
    "from sklearn.model_selection import train_test_split\n",
    "X_train, X_test, y_train, y_test = train_test_split(X, Y, test_size=0.2, random_state=42)"
   ]
  },
  {
   "cell_type": "markdown",
   "metadata": {},
   "source": [
    "## Feature Scaling \n",
    "\n",
    "Our dataset contains features highly varying in magnitudes, units and range (do a dataset.describe to inspect this). We need to bring all features to the same level of magnitudes. This can be achieved by scaling i.e. transforming data so that it fits within a specific scale, like 0–100 or 0–1.\n",
    "\n",
    "We will use SciKitLearn's `StandardScaler` method to standardize features by removing the mean and scaling to unit variance. [Click here to learn more on StandardScalar](https://scikit-learn.org/stable/modules/generated/sklearn.preprocessing.StandardScaler.html)\n",
    "\n",
    "### Apply `StandardScalar()` to all features in `X_train` and `X-test`"
   ]
  },
  {
   "cell_type": "code",
   "execution_count": 35,
   "metadata": {},
   "outputs": [
    {
     "data": {
      "text/html": [
       "<div>\n",
       "<style scoped>\n",
       "    .dataframe tbody tr th:only-of-type {\n",
       "        vertical-align: middle;\n",
       "    }\n",
       "\n",
       "    .dataframe tbody tr th {\n",
       "        vertical-align: top;\n",
       "    }\n",
       "\n",
       "    .dataframe thead th {\n",
       "        text-align: right;\n",
       "    }\n",
       "</style>\n",
       "<table border=\"1\" class=\"dataframe\">\n",
       "  <thead>\n",
       "    <tr style=\"text-align: right;\">\n",
       "      <th></th>\n",
       "      <th>radius_mean</th>\n",
       "      <th>texture_mean</th>\n",
       "      <th>perimeter_mean</th>\n",
       "      <th>area_mean</th>\n",
       "      <th>smoothness_mean</th>\n",
       "      <th>compactness_mean</th>\n",
       "      <th>concavity_mean</th>\n",
       "      <th>concave points_mean</th>\n",
       "      <th>symmetry_mean</th>\n",
       "      <th>fractal_dimension_mean</th>\n",
       "      <th>...</th>\n",
       "      <th>radius_worst</th>\n",
       "      <th>texture_worst</th>\n",
       "      <th>perimeter_worst</th>\n",
       "      <th>area_worst</th>\n",
       "      <th>smoothness_worst</th>\n",
       "      <th>compactness_worst</th>\n",
       "      <th>concavity_worst</th>\n",
       "      <th>concave points_worst</th>\n",
       "      <th>symmetry_worst</th>\n",
       "      <th>fractal_dimension_worst</th>\n",
       "    </tr>\n",
       "  </thead>\n",
       "  <tbody>\n",
       "    <tr>\n",
       "      <th>0</th>\n",
       "      <td>-1.440753</td>\n",
       "      <td>-0.435319</td>\n",
       "      <td>-1.362085</td>\n",
       "      <td>-1.139118</td>\n",
       "      <td>0.780573</td>\n",
       "      <td>0.718921</td>\n",
       "      <td>2.823135</td>\n",
       "      <td>-0.119150</td>\n",
       "      <td>1.092662</td>\n",
       "      <td>2.458173</td>\n",
       "      <td>...</td>\n",
       "      <td>-1.232861</td>\n",
       "      <td>-0.476309</td>\n",
       "      <td>-1.247920</td>\n",
       "      <td>-0.973968</td>\n",
       "      <td>0.722894</td>\n",
       "      <td>1.186732</td>\n",
       "      <td>4.672828</td>\n",
       "      <td>0.932012</td>\n",
       "      <td>2.097242</td>\n",
       "      <td>1.886450</td>\n",
       "    </tr>\n",
       "    <tr>\n",
       "      <th>1</th>\n",
       "      <td>1.974096</td>\n",
       "      <td>1.733026</td>\n",
       "      <td>2.091672</td>\n",
       "      <td>1.851973</td>\n",
       "      <td>1.319843</td>\n",
       "      <td>3.426275</td>\n",
       "      <td>2.013112</td>\n",
       "      <td>2.665032</td>\n",
       "      <td>2.127004</td>\n",
       "      <td>1.558396</td>\n",
       "      <td>...</td>\n",
       "      <td>2.173314</td>\n",
       "      <td>1.311279</td>\n",
       "      <td>2.081617</td>\n",
       "      <td>2.137405</td>\n",
       "      <td>0.761928</td>\n",
       "      <td>3.265601</td>\n",
       "      <td>1.928621</td>\n",
       "      <td>2.698947</td>\n",
       "      <td>1.891161</td>\n",
       "      <td>2.497838</td>\n",
       "    </tr>\n",
       "    <tr>\n",
       "      <th>2</th>\n",
       "      <td>-1.399982</td>\n",
       "      <td>-1.249622</td>\n",
       "      <td>-1.345209</td>\n",
       "      <td>-1.109785</td>\n",
       "      <td>-1.332645</td>\n",
       "      <td>-0.307355</td>\n",
       "      <td>-0.365558</td>\n",
       "      <td>-0.696502</td>\n",
       "      <td>1.930333</td>\n",
       "      <td>0.954379</td>\n",
       "      <td>...</td>\n",
       "      <td>-1.295284</td>\n",
       "      <td>-1.040811</td>\n",
       "      <td>-1.245220</td>\n",
       "      <td>-0.999715</td>\n",
       "      <td>-1.438693</td>\n",
       "      <td>-0.548564</td>\n",
       "      <td>-0.644911</td>\n",
       "      <td>-0.970239</td>\n",
       "      <td>0.597602</td>\n",
       "      <td>0.057894</td>\n",
       "    </tr>\n",
       "    <tr>\n",
       "      <th>3</th>\n",
       "      <td>-0.981797</td>\n",
       "      <td>1.416222</td>\n",
       "      <td>-0.982587</td>\n",
       "      <td>-0.866944</td>\n",
       "      <td>0.059390</td>\n",
       "      <td>-0.596788</td>\n",
       "      <td>-0.820203</td>\n",
       "      <td>-0.845115</td>\n",
       "      <td>0.313264</td>\n",
       "      <td>0.074041</td>\n",
       "      <td>...</td>\n",
       "      <td>-0.829197</td>\n",
       "      <td>1.593530</td>\n",
       "      <td>-0.873572</td>\n",
       "      <td>-0.742947</td>\n",
       "      <td>0.796624</td>\n",
       "      <td>-0.729392</td>\n",
       "      <td>-0.774950</td>\n",
       "      <td>-0.809483</td>\n",
       "      <td>0.798928</td>\n",
       "      <td>-0.134497</td>\n",
       "    </tr>\n",
       "    <tr>\n",
       "      <th>4</th>\n",
       "      <td>-1.117700</td>\n",
       "      <td>-1.010259</td>\n",
       "      <td>-1.125002</td>\n",
       "      <td>-0.965942</td>\n",
       "      <td>1.269511</td>\n",
       "      <td>-0.439002</td>\n",
       "      <td>-0.983341</td>\n",
       "      <td>-0.930600</td>\n",
       "      <td>3.394436</td>\n",
       "      <td>0.950213</td>\n",
       "      <td>...</td>\n",
       "      <td>-1.085129</td>\n",
       "      <td>-1.334616</td>\n",
       "      <td>-1.117138</td>\n",
       "      <td>-0.896549</td>\n",
       "      <td>-0.174876</td>\n",
       "      <td>-0.995079</td>\n",
       "      <td>-1.209146</td>\n",
       "      <td>-1.354582</td>\n",
       "      <td>1.033544</td>\n",
       "      <td>-0.205732</td>\n",
       "    </tr>\n",
       "  </tbody>\n",
       "</table>\n",
       "<p>5 rows × 30 columns</p>\n",
       "</div>"
      ],
      "text/plain": [
       "   radius_mean  texture_mean  perimeter_mean  area_mean  smoothness_mean  \\\n",
       "0    -1.440753     -0.435319       -1.362085  -1.139118         0.780573   \n",
       "1     1.974096      1.733026        2.091672   1.851973         1.319843   \n",
       "2    -1.399982     -1.249622       -1.345209  -1.109785        -1.332645   \n",
       "3    -0.981797      1.416222       -0.982587  -0.866944         0.059390   \n",
       "4    -1.117700     -1.010259       -1.125002  -0.965942         1.269511   \n",
       "\n",
       "   compactness_mean  concavity_mean  concave points_mean  symmetry_mean  \\\n",
       "0          0.718921        2.823135            -0.119150       1.092662   \n",
       "1          3.426275        2.013112             2.665032       2.127004   \n",
       "2         -0.307355       -0.365558            -0.696502       1.930333   \n",
       "3         -0.596788       -0.820203            -0.845115       0.313264   \n",
       "4         -0.439002       -0.983341            -0.930600       3.394436   \n",
       "\n",
       "   fractal_dimension_mean           ...             radius_worst  \\\n",
       "0                2.458173           ...                -1.232861   \n",
       "1                1.558396           ...                 2.173314   \n",
       "2                0.954379           ...                -1.295284   \n",
       "3                0.074041           ...                -0.829197   \n",
       "4                0.950213           ...                -1.085129   \n",
       "\n",
       "   texture_worst  perimeter_worst  area_worst  smoothness_worst  \\\n",
       "0      -0.476309        -1.247920   -0.973968          0.722894   \n",
       "1       1.311279         2.081617    2.137405          0.761928   \n",
       "2      -1.040811        -1.245220   -0.999715         -1.438693   \n",
       "3       1.593530        -0.873572   -0.742947          0.796624   \n",
       "4      -1.334616        -1.117138   -0.896549         -0.174876   \n",
       "\n",
       "   compactness_worst  concavity_worst  concave points_worst  symmetry_worst  \\\n",
       "0           1.186732         4.672828              0.932012        2.097242   \n",
       "1           3.265601         1.928621              2.698947        1.891161   \n",
       "2          -0.548564        -0.644911             -0.970239        0.597602   \n",
       "3          -0.729392        -0.774950             -0.809483        0.798928   \n",
       "4          -0.995079        -1.209146             -1.354582        1.033544   \n",
       "\n",
       "   fractal_dimension_worst  \n",
       "0                 1.886450  \n",
       "1                 2.497838  \n",
       "2                 0.057894  \n",
       "3                -0.134497  \n",
       "4                -0.205732  \n",
       "\n",
       "[5 rows x 30 columns]"
      ]
     },
     "execution_count": 35,
     "metadata": {},
     "output_type": "execute_result"
    }
   ],
   "source": [
    "#Feature Scaling\n",
    "# Code here \n",
    "from sklearn.preprocessing import StandardScaler\n",
    "scaler = StandardScaler(with_mean = True, with_std = True)\n",
    "scaler.fit(X_train)\n",
    "Xtrain = pd.DataFrame(scaler.transform(X_train), columns = X_train.columns)\n",
    "Xtrain.head()"
   ]
  },
  {
   "cell_type": "code",
   "execution_count": 36,
   "metadata": {},
   "outputs": [
    {
     "data": {
      "text/html": [
       "<div>\n",
       "<style scoped>\n",
       "    .dataframe tbody tr th:only-of-type {\n",
       "        vertical-align: middle;\n",
       "    }\n",
       "\n",
       "    .dataframe tbody tr th {\n",
       "        vertical-align: top;\n",
       "    }\n",
       "\n",
       "    .dataframe thead th {\n",
       "        text-align: right;\n",
       "    }\n",
       "</style>\n",
       "<table border=\"1\" class=\"dataframe\">\n",
       "  <thead>\n",
       "    <tr style=\"text-align: right;\">\n",
       "      <th></th>\n",
       "      <th>radius_mean</th>\n",
       "      <th>texture_mean</th>\n",
       "      <th>perimeter_mean</th>\n",
       "      <th>area_mean</th>\n",
       "      <th>smoothness_mean</th>\n",
       "      <th>compactness_mean</th>\n",
       "      <th>concavity_mean</th>\n",
       "      <th>concave points_mean</th>\n",
       "      <th>symmetry_mean</th>\n",
       "      <th>fractal_dimension_mean</th>\n",
       "      <th>...</th>\n",
       "      <th>radius_worst</th>\n",
       "      <th>texture_worst</th>\n",
       "      <th>perimeter_worst</th>\n",
       "      <th>area_worst</th>\n",
       "      <th>smoothness_worst</th>\n",
       "      <th>compactness_worst</th>\n",
       "      <th>concavity_worst</th>\n",
       "      <th>concave points_worst</th>\n",
       "      <th>symmetry_worst</th>\n",
       "      <th>fractal_dimension_worst</th>\n",
       "    </tr>\n",
       "  </thead>\n",
       "  <tbody>\n",
       "    <tr>\n",
       "      <th>0</th>\n",
       "      <td>-0.487795</td>\n",
       "      <td>-0.250884</td>\n",
       "      <td>-0.463787</td>\n",
       "      <td>-0.515440</td>\n",
       "      <td>0.057840</td>\n",
       "      <td>-0.026292</td>\n",
       "      <td>-0.103512</td>\n",
       "      <td>-0.319293</td>\n",
       "      <td>0.408774</td>\n",
       "      <td>0.119680</td>\n",
       "      <td>...</td>\n",
       "      <td>-0.291867</td>\n",
       "      <td>-0.249224</td>\n",
       "      <td>-0.343372</td>\n",
       "      <td>-0.376935</td>\n",
       "      <td>0.320807</td>\n",
       "      <td>-0.135710</td>\n",
       "      <td>0.021998</td>\n",
       "      <td>-0.219891</td>\n",
       "      <td>0.230839</td>\n",
       "      <td>0.171733</td>\n",
       "    </tr>\n",
       "    <tr>\n",
       "      <th>1</th>\n",
       "      <td>1.373257</td>\n",
       "      <td>0.363187</td>\n",
       "      <td>1.292543</td>\n",
       "      <td>1.393120</td>\n",
       "      <td>-0.608296</td>\n",
       "      <td>-0.079938</td>\n",
       "      <td>0.242772</td>\n",
       "      <td>0.675139</td>\n",
       "      <td>-0.855973</td>\n",
       "      <td>-1.298962</td>\n",
       "      <td>...</td>\n",
       "      <td>1.719347</td>\n",
       "      <td>0.052563</td>\n",
       "      <td>1.681975</td>\n",
       "      <td>1.686485</td>\n",
       "      <td>-0.763613</td>\n",
       "      <td>-0.160992</td>\n",
       "      <td>0.029794</td>\n",
       "      <td>0.930195</td>\n",
       "      <td>-0.589588</td>\n",
       "      <td>-0.972629</td>\n",
       "    </tr>\n",
       "    <tr>\n",
       "      <th>2</th>\n",
       "      <td>0.372258</td>\n",
       "      <td>-0.051481</td>\n",
       "      <td>0.387730</td>\n",
       "      <td>0.270836</td>\n",
       "      <td>0.723280</td>\n",
       "      <td>0.278933</td>\n",
       "      <td>0.721003</td>\n",
       "      <td>0.707885</td>\n",
       "      <td>0.430898</td>\n",
       "      <td>-0.777860</td>\n",
       "      <td>...</td>\n",
       "      <td>0.580540</td>\n",
       "      <td>-0.037662</td>\n",
       "      <td>0.493153</td>\n",
       "      <td>0.453400</td>\n",
       "      <td>0.879306</td>\n",
       "      <td>-0.126078</td>\n",
       "      <td>0.567720</td>\n",
       "      <td>0.521573</td>\n",
       "      <td>-0.082801</td>\n",
       "      <td>-0.215370</td>\n",
       "    </tr>\n",
       "    <tr>\n",
       "      <th>3</th>\n",
       "      <td>-0.507930</td>\n",
       "      <td>-0.459351</td>\n",
       "      <td>-0.448087</td>\n",
       "      <td>-0.556962</td>\n",
       "      <td>0.458497</td>\n",
       "      <td>0.450969</td>\n",
       "      <td>-0.136220</td>\n",
       "      <td>-0.565373</td>\n",
       "      <td>-0.011579</td>\n",
       "      <td>1.253660</td>\n",
       "      <td>...</td>\n",
       "      <td>-0.716886</td>\n",
       "      <td>-0.518344</td>\n",
       "      <td>-0.530104</td>\n",
       "      <td>-0.658460</td>\n",
       "      <td>0.432506</td>\n",
       "      <td>0.015382</td>\n",
       "      <td>-0.108585</td>\n",
       "      <td>-0.632971</td>\n",
       "      <td>-0.580728</td>\n",
       "      <td>0.494230</td>\n",
       "    </tr>\n",
       "    <tr>\n",
       "      <th>4</th>\n",
       "      <td>-0.755304</td>\n",
       "      <td>-1.193517</td>\n",
       "      <td>-0.729860</td>\n",
       "      <td>-0.748083</td>\n",
       "      <td>0.071079</td>\n",
       "      <td>0.088398</td>\n",
       "      <td>-0.260610</td>\n",
       "      <td>-0.614733</td>\n",
       "      <td>0.014232</td>\n",
       "      <td>0.755891</td>\n",
       "      <td>...</td>\n",
       "      <td>-0.842969</td>\n",
       "      <td>-1.020805</td>\n",
       "      <td>-0.844128</td>\n",
       "      <td>-0.759191</td>\n",
       "      <td>-0.056181</td>\n",
       "      <td>-0.292219</td>\n",
       "      <td>-0.403859</td>\n",
       "      <td>-0.700133</td>\n",
       "      <td>-0.982968</td>\n",
       "      <td>-0.154471</td>\n",
       "    </tr>\n",
       "  </tbody>\n",
       "</table>\n",
       "<p>5 rows × 30 columns</p>\n",
       "</div>"
      ],
      "text/plain": [
       "   radius_mean  texture_mean  perimeter_mean  area_mean  smoothness_mean  \\\n",
       "0    -0.487795     -0.250884       -0.463787  -0.515440         0.057840   \n",
       "1     1.373257      0.363187        1.292543   1.393120        -0.608296   \n",
       "2     0.372258     -0.051481        0.387730   0.270836         0.723280   \n",
       "3    -0.507930     -0.459351       -0.448087  -0.556962         0.458497   \n",
       "4    -0.755304     -1.193517       -0.729860  -0.748083         0.071079   \n",
       "\n",
       "   compactness_mean  concavity_mean  concave points_mean  symmetry_mean  \\\n",
       "0         -0.026292       -0.103512            -0.319293       0.408774   \n",
       "1         -0.079938        0.242772             0.675139      -0.855973   \n",
       "2          0.278933        0.721003             0.707885       0.430898   \n",
       "3          0.450969       -0.136220            -0.565373      -0.011579   \n",
       "4          0.088398       -0.260610            -0.614733       0.014232   \n",
       "\n",
       "   fractal_dimension_mean           ...             radius_worst  \\\n",
       "0                0.119680           ...                -0.291867   \n",
       "1               -1.298962           ...                 1.719347   \n",
       "2               -0.777860           ...                 0.580540   \n",
       "3                1.253660           ...                -0.716886   \n",
       "4                0.755891           ...                -0.842969   \n",
       "\n",
       "   texture_worst  perimeter_worst  area_worst  smoothness_worst  \\\n",
       "0      -0.249224        -0.343372   -0.376935          0.320807   \n",
       "1       0.052563         1.681975    1.686485         -0.763613   \n",
       "2      -0.037662         0.493153    0.453400          0.879306   \n",
       "3      -0.518344        -0.530104   -0.658460          0.432506   \n",
       "4      -1.020805        -0.844128   -0.759191         -0.056181   \n",
       "\n",
       "   compactness_worst  concavity_worst  concave points_worst  symmetry_worst  \\\n",
       "0          -0.135710         0.021998             -0.219891        0.230839   \n",
       "1          -0.160992         0.029794              0.930195       -0.589588   \n",
       "2          -0.126078         0.567720              0.521573       -0.082801   \n",
       "3           0.015382        -0.108585             -0.632971       -0.580728   \n",
       "4          -0.292219        -0.403859             -0.700133       -0.982968   \n",
       "\n",
       "   fractal_dimension_worst  \n",
       "0                 0.171733  \n",
       "1                -0.972629  \n",
       "2                -0.215370  \n",
       "3                 0.494230  \n",
       "4                -0.154471  \n",
       "\n",
       "[5 rows x 30 columns]"
      ]
     },
     "execution_count": 36,
     "metadata": {},
     "output_type": "execute_result"
    }
   ],
   "source": [
    "scaler = StandardScaler(with_mean = True, with_std = True)\n",
    "scaler.fit(X_test)\n",
    "Xtest = pd.DataFrame(scaler.transform(X_test), columns = X_train.columns)\n",
    "Xtest.head()"
   ]
  },
  {
   "cell_type": "markdown",
   "metadata": {},
   "source": [
    "## Model Development "
   ]
  },
  {
   "cell_type": "markdown",
   "metadata": {},
   "source": [
    "With our pre-processing in place, Let's build our model. We shall use the `GaussianNB` to model our data. For this you need to \n",
    "- Initialize an instance of classifier\n",
    "- Fit the model to the X_train and Y_train datasets\n",
    "\n",
    "This step is same for pretty much all models in SciKitLearn. [Here is the official doc](https://scikit-learn.org/stable/modules/generated/sklearn.naive_bayes.GaussianNB.html) with a few code examples to get you going. \n",
    "\n",
    "### Fit the Naive Bayes Classifier"
   ]
  },
  {
   "cell_type": "code",
   "execution_count": 40,
   "metadata": {},
   "outputs": [
    {
     "data": {
      "text/plain": [
       "GaussianNB(priors=None, var_smoothing=1e-09)"
      ]
     },
     "execution_count": 40,
     "metadata": {},
     "output_type": "execute_result"
    }
   ],
   "source": [
    "#Fitting Naive_Bayes\n",
    "# Code here\n",
    "from sklearn.naive_bayes import GaussianNB\n",
    "clf = GaussianNB()\n",
    "clf.fit(Xtrain,y_train)"
   ]
  },
  {
   "cell_type": "markdown",
   "metadata": {},
   "source": [
    "The `GaussianNB()` implemented in scikit-learn does not allow you to set class prior. If you read the online documentation, you see .class_prior_ is an attribute rather than parameters. Once you fit the GaussianNB(), you can get access to class_prior_ attribute. It is calculated by simply counting the number of different labels in your training sample."
   ]
  },
  {
   "cell_type": "code",
   "execution_count": 42,
   "metadata": {},
   "outputs": [
    {
     "data": {
      "text/plain": [
       "array([0.37142857, 0.62857143])"
      ]
     },
     "execution_count": 42,
     "metadata": {},
     "output_type": "execute_result"
    }
   ],
   "source": [
    "# Uncomment below to run\n",
    "clf.class_prior_\n",
    "\n",
    "\n",
    "# array([0.63736264, 0.36263736])"
   ]
  },
  {
   "cell_type": "markdown",
   "metadata": {},
   "source": [
    "Now we can use the `model.predict(test_set)` to make predictions for our test data. [Here is some help](https://scikit-learn.org/stable/tutorial/statistical_inference/supervised_learning.html) o making predictions in scikit learn. As mentioned earlier, this process is almost same for all models in skLearn. \n",
    "\n",
    "### Make predictions from trained classifier"
   ]
  },
  {
   "cell_type": "code",
   "execution_count": 43,
   "metadata": {},
   "outputs": [
    {
     "data": {
      "text/plain": [
       "array([1, 0, 0, 1, 1, 0, 0, 0, 0, 1, 1, 0, 1, 0, 1, 0, 1, 1, 1, 0, 1, 1,\n",
       "       0, 1, 1, 1, 1, 1, 1, 0, 1, 1, 1, 1, 1, 1, 1, 1, 0, 1, 1, 0, 1, 1,\n",
       "       1, 1, 1, 1, 1, 1, 0, 0, 1, 1, 1, 1, 1, 0, 0, 1, 1, 0, 0, 1, 1, 1,\n",
       "       0, 0, 1, 1, 0, 0, 1, 0, 1, 1, 1, 1, 1, 1, 0, 1, 1, 0, 0, 0, 0, 0,\n",
       "       1, 1, 1, 1, 1, 1, 1, 1, 0, 0, 1, 0, 0, 1, 0, 0, 1, 1, 1, 0, 1, 1,\n",
       "       0, 1, 1, 0])"
      ]
     },
     "execution_count": 43,
     "metadata": {},
     "output_type": "execute_result"
    }
   ],
   "source": [
    "# Make Predictions\n",
    "Y_pred = clf.predict(Xtest)\n",
    "Y_pred\n",
    "\n",
    "\n",
    "# array([1, 0, 0, 0, 0, 0, 0, 0, 0, 0, 1, 0, 0, 1, 1, 1, 1, 1, 1, 1, 1, 1,\n",
    "#        0, 0, 1, 0, 0, 1, 0, 1, 0, 1, 0, 1, 0, 1, 0, 1, 0, 1, 0, 0, 1, 0,\n",
    "#        1, 1, 0, 0, 0, 1, 1, 1, 1, 0, 0, 0, 0, 0, 0, 1, 1, 1, 0, 0, 1, 0,\n",
    "#        1, 1, 1, 0, 0, 1, 0, 0, 1, 0, 0, 0, 0, 0, 1, 1, 1, 0, 1, 0, 0, 0,\n",
    "#        1, 1, 0, 0, 0, 1, 0, 0, 1, 1, 0, 0, 0, 0, 0, 0, 1, 0, 1, 0, 0, 0,\n",
    "#        0, 1, 1, 0])"
   ]
  },
  {
   "cell_type": "markdown",
   "metadata": {},
   "source": [
    "## Calculate Accuracy\n",
    "\n",
    "Great now we can bring in our `Y_test` and compare it against `Y_pred` to check the accuracy. \n",
    "* You simply measure the number of correct decisions your classifier makes, divide by the total number of test examples, and the result is the accuracy of your classifier.\n"
   ]
  },
  {
   "cell_type": "code",
   "execution_count": 46,
   "metadata": {},
   "outputs": [
    {
     "name": "stdout",
     "output_type": "stream",
     "text": [
      "0.956140350877193\n"
     ]
    }
   ],
   "source": [
    "## Calculate accuracy using formula \n",
    "acc= sum(Y_pred == y_test)/len(Y_pred)\n",
    "print( acc)\n",
    "\n",
    "# 0.9035087719298246"
   ]
  },
  {
   "cell_type": "markdown",
   "metadata": {},
   "source": [
    "Scikit learn has built in methods to do this. [Check here](https://scikit-learn.org/stable/modules/generated/sklearn.metrics.accuracy_score.html) on how to use this."
   ]
  },
  {
   "cell_type": "code",
   "execution_count": 48,
   "metadata": {},
   "outputs": [
    {
     "data": {
      "text/plain": [
       "0.956140350877193"
      ]
     },
     "execution_count": 48,
     "metadata": {},
     "output_type": "execute_result"
    }
   ],
   "source": [
    "# Calculate accuracy using scikit learn\n",
    "# Code here \n",
    "from sklearn.metrics import accuracy_score\n",
    "accuracy_score(y_test, Y_pred)\n",
    "# 0.9035087719298246"
   ]
  },
  {
   "cell_type": "markdown",
   "metadata": {},
   "source": [
    "## Level up \n",
    "\n",
    "- Predicting single example\n",
    "- Train the classifier using 5-fold cross validation to monitor any improvement/reduction in accuracy \n",
    "- Run this dataset with the Numpy implementation in last lab, and compare results"
   ]
  },
  {
   "cell_type": "markdown",
   "metadata": {},
   "source": [
    "## Summary\n",
    "\n",
    "In this lab we learned to train and predict from a Naive Bayes Classifier in ScikitLearn. We also calculated accuracy partially, as we could deeper into calculating Type and 2 errors i.e. true positives and false positives to check for Sensitivity and Specificity. We shall leave out detailed evaluation for a later lesson in classification. Next we shall learn a more popular use case of Naive Bayes i.e. Text classification and NLP.  "
   ]
  }
 ],
 "metadata": {
  "kernelspec": {
   "display_name": "Python 3",
   "language": "python",
   "name": "python3"
  },
  "language_info": {
   "codemirror_mode": {
    "name": "ipython",
    "version": 3
   },
   "file_extension": ".py",
   "mimetype": "text/x-python",
   "name": "python",
   "nbconvert_exporter": "python",
   "pygments_lexer": "ipython3",
   "version": "3.6.6"
  }
 },
 "nbformat": 4,
 "nbformat_minor": 2
}
